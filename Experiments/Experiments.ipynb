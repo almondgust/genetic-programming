{
 "cells": [
  {
   "cell_type": "code",
   "execution_count": 13,
   "id": "93d5ccec",
   "metadata": {},
   "outputs": [],
   "source": [
    "import skmultilearn\n",
    "from skmultilearn import dataset\n",
    "from sklearn.model_selection import cross_val_score\n",
    "from sklearn.metrics import accuracy_score, hamming_loss, f1_score\n",
    "from sklearn.tree import DecisionTreeClassifier\n",
    "from sklearn.ensemble import RandomForestClassifier\n",
    "from skmultilearn.adapt import MLkNN\n",
    "import numpy as np"
   ]
  },
  {
   "cell_type": "code",
   "execution_count": 2,
   "id": "70bda11f",
   "metadata": {
    "scrolled": true
   },
   "outputs": [
    {
     "name": "stdout",
     "output_type": "stream",
     "text": [
      "emotions:train - exists, not redownloading\n",
      "emotions:test - exists, not redownloading\n",
      "genbase:train - exists, not redownloading\n",
      "genbase:test - exists, not redownloading\n",
      "medical:train - exists, not redownloading\n",
      "medical:test - exists, not redownloading\n"
     ]
    }
   ],
   "source": [
    "e_train = skmultilearn.dataset.load_dataset('emotions', 'train')\n",
    "e_test = skmultilearn.dataset.load_dataset('emotions', 'test')\n",
    "g_train = skmultilearn.dataset.load_dataset('genbase', 'train')\n",
    "g_test = skmultilearn.dataset.load_dataset('genbase', 'test')\n",
    "m_train = skmultilearn.dataset.load_dataset('medical', 'train')\n",
    "m_test = skmultilearn.dataset.load_dataset('medical', 'test')"
   ]
  },
  {
   "cell_type": "code",
   "execution_count": 37,
   "id": "68332775",
   "metadata": {},
   "outputs": [],
   "source": [
    "# X, y, names of attributes, names of labels\n",
    "classifiers = [DecisionTreeClassifier(random_state = 0),\n",
    "               RandomForestClassifier(random_state = 0, max_features = None),\n",
    "               MLkNN(3)]\n",
    "\n",
    "clf_names = [\"Decision tree\", \"Random forest\", \"kNN\"]"
   ]
  },
  {
   "cell_type": "code",
   "execution_count": 4,
   "id": "e8a1875f",
   "metadata": {},
   "outputs": [],
   "source": [
    "ds_train = [e_train, g_train, m_train]\n",
    "ds_test = [e_test, g_test, m_test]\n",
    "ds_names = ['emotions', 'genbase', 'medical']"
   ]
  },
  {
   "cell_type": "code",
   "execution_count": 38,
   "id": "29f0cdb2",
   "metadata": {},
   "outputs": [
    {
     "name": "stdout",
     "output_type": "stream",
     "text": [
      "emotions\n",
      "Decision tree: Accuracy = 0.2079208, Hamming loss = 0.299505\n",
      "Random forest: Accuracy = 0.2871287, Hamming loss = 0.1922442\n",
      "kNN: Accuracy = 0.1930693, Hamming loss = 0.2953795\n",
      "\n",
      "genbase\n",
      "Decision tree: Accuracy = 0.959799, Hamming loss = 0.0014889\n",
      "Random forest: Accuracy = 0.9698492, Hamming loss = 0.0011167\n",
      "kNN: Accuracy = 0.2763819, Hamming loss = 0.0478318\n",
      "\n",
      "medical\n",
      "Decision tree: Accuracy = 0.6403101, Hamming loss = 0.0141947\n",
      "Random forest: Accuracy = 0.6341085, Hamming loss = 0.0125754\n",
      "kNN: Accuracy = 0.4341085, Hamming loss = 0.0191559\n",
      "\n"
     ]
    }
   ],
   "source": [
    "for train, test, ds_name in zip(ds_train, ds_test, ds_names):\n",
    "    X_train, y_train = train[0].toarray(), train[1].toarray()\n",
    "    X_test, y_test = test[0].toarray(), test[1].toarray()\n",
    "    \n",
    "    print(ds_name)\n",
    "    for clf, clf_name in zip(classifiers[:3], clf_names):\n",
    "        model = clf.fit(X_train, y_train)\n",
    "        acc = accuracy_score(y_test, model.predict(X_test))\n",
    "        hl = hamming_loss(y_test, model.predict(X_test))\n",
    "        print(clf_name + \": Accuracy = \" + str(round(acc, 7)) +\n",
    "              \", Hamming loss = \" + str(round(hl, 7)))\n",
    "    print()"
   ]
  }
 ],
 "metadata": {
  "kernelspec": {
   "display_name": "Python 3 (ipykernel)",
   "language": "python",
   "name": "python3"
  },
  "language_info": {
   "codemirror_mode": {
    "name": "ipython",
    "version": 3
   },
   "file_extension": ".py",
   "mimetype": "text/x-python",
   "name": "python",
   "nbconvert_exporter": "python",
   "pygments_lexer": "ipython3",
   "version": "3.12.0"
  }
 },
 "nbformat": 4,
 "nbformat_minor": 5
}
