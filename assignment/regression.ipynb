{
 "cells": [
  {
   "cell_type": "code",
   "execution_count": 37,
   "id": "04f89ce6-d93b-4333-a0f2-e2940110e05d",
   "metadata": {},
   "outputs": [],
   "source": [
    "from deap import base, creator, gp, tools, algorithms\n",
    "import operator, math, random\n",
    "import numpy as np\n",
    "import pygraphviz as pgv\n",
    "import sympy"
   ]
  },
  {
   "cell_type": "code",
   "execution_count": 2,
   "id": "bca17d91-bbe1-41bb-b927-68f92d1b480c",
   "metadata": {},
   "outputs": [],
   "source": [
    "def protectedDiv(left, right):\n",
    "    try:\n",
    "        return left / right\n",
    "    except ZeroDivisionError:\n",
    "        return 1\n",
    "\n",
    "pset = gp.PrimitiveSet(\"MAIN\", 1)\n",
    "pset.addPrimitive(operator.add, 2)\n",
    "pset.addPrimitive(operator.sub, 2)\n",
    "pset.addPrimitive(operator.mul, 2)\n",
    "pset.addPrimitive(protectedDiv, 2)"
   ]
  },
  {
   "cell_type": "code",
   "execution_count": 4,
   "id": "7f52c867-0024-4f3b-a766-72da36841664",
   "metadata": {},
   "outputs": [
    {
     "name": "stdout",
     "output_type": "stream",
     "text": [
      "[-2.0, -1.75, -1.5, -1.25, -1.0, -0.75, -0.5, -0.25, 0.0, 0.25, 0.5, 0.75, 1.0, 1.25, 1.5, 1.75, 2.0, 2.25, 2.5, 2.75]\n",
      "[37.0, 24.16016, 15.0625, 8.91016, 5.0, 2.72266, 1.5625, 1.09766, 1.0, 1.03516, 1.0625, 1.03516, 1.0, 1.09766, 1.5625, 2.72266, 5.0, 8.91016, 15.0625, 24.16016]\n"
     ]
    }
   ],
   "source": [
    "reg = np.loadtxt(\"regression.txt\", skiprows=2)\n",
    "reg_x = reg[:,0].tolist()\n",
    "reg_y = reg[:,1].tolist()\n",
    "print(reg_x)\n",
    "print(reg_y)"
   ]
  },
  {
   "cell_type": "code",
   "execution_count": 53,
   "id": "359044b8-dfd0-4bea-9e53-252b3216b866",
   "metadata": {},
   "outputs": [
    {
     "name": "stdout",
     "output_type": "stream",
     "text": [
      "   \t      \t                    fitness                    \t                     size                     \n",
      "   \t      \t-----------------------------------------------\t----------------------------------------------\n",
      "gen\tnevals\tavg    \tgen\tmax    \tmin    \tnevals\tstd    \tavg  \tgen\tmax\tmin\tnevals\tstd   \n",
      "0  \t500   \t150.345\t0  \t285.684\t59.9551\t500   \t32.7096\t4.916\t0  \t7  \t3  \t500   \t1.9269\n",
      "1  \t265   \t129.624\t1  \t754.98 \t59.9551\t265   \t40.3795\t4.944\t1  \t13 \t1  \t265   \t2.19382\n",
      "2  \t267   \t109.771\t2  \t285.684\t59.9551\t267   \t26.7508\t5.036\t2  \t15 \t1  \t267   \t2.25005\n",
      "3  \t300   \t103.906\t3  \t754.98 \t56.7337\t300   \t46.5065\t6.076\t3  \t13 \t1  \t300   \t2.23119\n",
      "4  \t273   \t98.6647\t4  \t3529.31\t55.1298\t273   \t158.865\t6.724\t4  \t15 \t1  \t273   \t2.0813 \n",
      "5  \t265   \t84.6099\t5  \t891.042\t48.0824\t265   \t61.8096\t7.036\t5  \t15 \t1  \t265   \t2.14446\n",
      "6  \t270   \t79.8591\t6  \t479.153\t48.0824\t270   \t51.5587\t7.444\t6  \t17 \t1  \t270   \t2.49216\n",
      "7  \t291   \t93.3416\t7  \t3948.58\t24.4816\t291   \t199.538\t7.628\t7  \t17 \t1  \t291   \t2.35916\n",
      "8  \t254   \t93.9553\t8  \t2050.34\t24.4816\t254   \t168.288\t7.988\t8  \t19 \t1  \t254   \t2.6427 \n",
      "9  \t282   \t96.6116\t9  \t2272.48\t19.9221\t282   \t178.429\t8.56 \t9  \t23 \t1  \t282   \t3.09813\n",
      "10 \t284   \t81.1362\t10 \t2050.34\t18.3029\t284   \t114.508\t9.32 \t10 \t29 \t1  \t284   \t3.70211\n",
      "11 \t299   \t79.0476\t11 \t2079.13\t17.4323\t299   \t118.721\t10.808\t11 \t29 \t3  \t299   \t4.46622\n",
      "12 \t243   \t71.1471\t12 \t3289.98\t12.3332\t243   \t156.494\t12.996\t12 \t29 \t1  \t243   \t5.30283\n",
      "13 \t255   \t91.6382\t13 \t2540.77\t12.3332\t255   \t221.824\t15.36 \t13 \t37 \t1  \t255   \t5.5669 \n",
      "14 \t259   \t77.7172\t14 \t5994.41\t12.3332\t259   \t297.178\t17.544\t14 \t37 \t3  \t259   \t5.83713\n",
      "15 \t295   \t225.001\t15 \t69999.2\t2.46875\t295   \t3155.91\t19.232\t15 \t49 \t1  \t295   \t6.68806\n",
      "16 \t269   \t89.5324\t16 \t9903.01\t2.46875\t269   \t497.471\t20.768\t16 \t49 \t1  \t269   \t7.41742\n",
      "17 \t278   \t127.132\t17 \t28043  \t2.46875\t278   \t1277.16\t22.14 \t17 \t51 \t1  \t278   \t8.17535\n",
      "18 \t277   \t87.1558\t18 \t11252.5\t7.03125e-12\t277   \t551.591\t22.652\t18 \t51 \t3  \t277   \t8.60784\n",
      "19 \t269   \t112.276\t19 \t9861.51\t7.03125e-12\t269   \t611.07 \t22.272\t19 \t55 \t1  \t269   \t9.179  \n",
      "20 \t262   \t191.037\t20 \t30167.8\t7.03125e-12\t262   \t1452.98\t21.584\t20 \t63 \t1  \t262   \t9.24397\n"
     ]
    }
   ],
   "source": [
    "pset.renameArguments(ARG0='x')\n",
    "\n",
    "creator.create(\"FitnessMin\", base.Fitness, weights=(-1.0,))\n",
    "creator.create(\"Individual\", gp.PrimitiveTree, fitness=creator.FitnessMin)\n",
    "\n",
    "toolbox = base.Toolbox()\n",
    "toolbox.register(\"expr\", gp.genHalfAndHalf, pset=pset, min_=1, max_=2)\n",
    "toolbox.register(\"individual\", tools.initIterate, creator.Individual, toolbox.expr)\n",
    "toolbox.register(\"population\", tools.initRepeat, list, toolbox.individual)\n",
    "toolbox.register(\"compile\", gp.compile, pset=pset)\n",
    "\n",
    "def evalSymbReg(individual, points):\n",
    "    # Transform the tree expression in a callable function\n",
    "    func = toolbox.compile(expr=individual)\n",
    "    # Evaluate the mean squared error\n",
    "    sqerrors = ((func(reg_x[i]) - reg_y[i])**2 for i in range(len(points)))\n",
    "    return math.fsum(sqerrors) / len(points),\n",
    "\n",
    "toolbox.register(\"evaluate\", evalSymbReg, points=reg_x)\n",
    "toolbox.register(\"select\", tools.selTournament, tournsize=3)\n",
    "toolbox.register(\"mate\", gp.cxOnePoint)\n",
    "toolbox.register(\"expr_mut\", gp.genFull, min_=0, max_=2)\n",
    "toolbox.register(\"mutate\", gp.mutUniform, expr=toolbox.expr_mut, pset=pset)\n",
    "\n",
    "toolbox.decorate(\"mate\", gp.staticLimit(key=operator.attrgetter(\"height\"), max_value=17))\n",
    "toolbox.decorate(\"mutate\", gp.staticLimit(key=operator.attrgetter(\"height\"), max_value=17))\n",
    "\n",
    "def main():\n",
    "    random.seed(0)\n",
    "\n",
    "    pop = toolbox.population(n=500)\n",
    "    hof = tools.HallOfFame(1)\n",
    "\n",
    "    stats_fit = tools.Statistics(lambda ind: ind.fitness.values)\n",
    "    stats_size = tools.Statistics(len)\n",
    "    mstats = tools.MultiStatistics(fitness=stats_fit, size=stats_size)\n",
    "    mstats.register(\"avg\", np.mean)\n",
    "    mstats.register(\"std\", np.std)\n",
    "    mstats.register(\"min\", np.min)\n",
    "    mstats.register(\"max\", np.max)\n",
    "\n",
    "    pop, log = algorithms.eaSimple(pop, toolbox, 0.5, 0.1, 20, stats=mstats,\n",
    "                                   halloffame=hof, verbose=True) # P(mate), P(mutate), ngen\n",
    "    # print log\n",
    "    return pop, log, hof # returns population, log, hall of fame\n",
    "\n",
    "progs = main()"
   ]
  },
  {
   "cell_type": "code",
   "execution_count": 54,
   "id": "98dff35b-d8e2-4d7b-a861-67e7403140eb",
   "metadata": {},
   "outputs": [
    {
     "name": "stdout",
     "output_type": "stream",
     "text": [
      "add(protectedDiv(x, x), mul(sub(x, mul(x, sub(add(x, x), mul(x, x)))), x))\n"
     ]
    }
   ],
   "source": [
    "nodes, edges, labels = gp.graph(progs[2][0]) # hof\n",
    "\n",
    "print(gp.PrimitiveTree(progs[2][0]))"
   ]
  },
  {
   "cell_type": "code",
   "execution_count": 11,
   "id": "e02a5d06-ec74-4f05-bf30-100b339cc7a4",
   "metadata": {},
   "outputs": [],
   "source": [
    "g = pgv.AGraph()\n",
    "g.add_nodes_from(nodes)\n",
    "g.add_edges_from(edges)\n",
    "g.layout(prog=\"dot\")\n",
    "\n",
    "for i in nodes:\n",
    "    n = g.get_node(i)\n",
    "    n.attr[\"label\"] = labels[i]\n",
    "\n",
    "g.draw(\"tree.pdf\")"
   ]
  }
 ],
 "metadata": {
  "kernelspec": {
   "display_name": "Python 3 (ipykernel)",
   "language": "python",
   "name": "python3"
  },
  "language_info": {
   "codemirror_mode": {
    "name": "ipython",
    "version": 3
   },
   "file_extension": ".py",
   "mimetype": "text/x-python",
   "name": "python",
   "nbconvert_exporter": "python",
   "pygments_lexer": "ipython3",
   "version": "3.12.0"
  }
 },
 "nbformat": 4,
 "nbformat_minor": 5
}
