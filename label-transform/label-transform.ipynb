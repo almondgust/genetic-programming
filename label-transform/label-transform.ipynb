{
 "cells": [
  {
   "cell_type": "code",
   "execution_count": 33,
   "id": "ca1ade2b",
   "metadata": {},
   "outputs": [],
   "source": [
    "import skmultilearn\n",
    "from skmultilearn import dataset\n",
    "from sklearn.model_selection import cross_val_score\n",
    "from sklearn.metrics import accuracy_score, hamming_loss, f1_score\n",
    "from sklearn.tree import DecisionTreeClassifier\n",
    "from sklearn.ensemble import RandomForestClassifier\n",
    "from skmultilearn.adapt import MLkNN\n",
    "\n",
    "from deap import base, creator, gp, tools, algorithms\n",
    "from itertools import combinations\n",
    "import operator, math, random\n",
    "import numpy as np\n",
    "import pygraphviz as pgv\n",
    "import sympy"
   ]
  },
  {
   "cell_type": "code",
   "execution_count": 2,
   "id": "c5d411ad",
   "metadata": {},
   "outputs": [],
   "source": [
    "def protectedDiv(left, right):\n",
    "    try:\n",
    "        return left / right\n",
    "    except ZeroDivisionError:\n",
    "        return 1\n",
    "\n",
    "pset = gp.PrimitiveSet(\"MAIN\", 1)\n",
    "pset.addPrimitive(operator.add, 2)\n",
    "pset.addPrimitive(operator.sub, 2)\n",
    "pset.addPrimitive(operator.mul, 2)\n",
    "pset.addPrimitive(protectedDiv, 2)\n",
    "\n",
    "pset.renameArguments(ARG0='x')"
   ]
  },
  {
   "cell_type": "code",
   "execution_count": 27,
   "id": "23c495fe",
   "metadata": {},
   "outputs": [
    {
     "name": "stdout",
     "output_type": "stream",
     "text": [
      "emotions:train - exists, not redownloading\n",
      "emotions:test - exists, not redownloading\n",
      "medical:train - exists, not redownloading\n"
     ]
    }
   ],
   "source": [
    "e_train = skmultilearn.dataset.load_dataset('emotions', 'train')\n",
    "e_test = skmultilearn.dataset.load_dataset('emotions', 'test')\n",
    "\n",
    "e_train = skmultilearn.dataset.load_dataset('medical', 'train')"
   ]
  },
  {
   "cell_type": "code",
   "execution_count": 28,
   "id": "9a2f0cf0",
   "metadata": {},
   "outputs": [],
   "source": [
    "# X, y, names of attributes, names of labels\n",
    "X_train = e_train[0].toarray() # 391, 72\n",
    "y_train = e_train[1].toarray() # 391, 6"
   ]
  },
  {
   "cell_type": "code",
   "execution_count": 30,
   "id": "3dda7c62",
   "metadata": {
    "scrolled": true
   },
   "outputs": [
    {
     "data": {
      "text/plain": [
       "(61, 45)"
      ]
     },
     "execution_count": 30,
     "metadata": {},
     "output_type": "execute_result"
    }
   ],
   "source": [
    "y_train_u = np.unique(y_train, axis=0) # 26 unique labels\n",
    "y_train_u.shape"
   ]
  },
  {
   "cell_type": "code",
   "execution_count": 35,
   "id": "111d039e",
   "metadata": {},
   "outputs": [
    {
     "name": "stdout",
     "output_type": "stream",
     "text": [
      "   \t      \t                    fitness                    \t                      size                     \n",
      "   \t      \t-----------------------------------------------\t-----------------------------------------------\n",
      "gen\tnevals\tavg  \tgen\tmax\tmin\tnevals\tstd    \tavg\tgen\tmax\tmin\tnevals\tstd    \n",
      "0  \t20    \t274.1\t0  \t411\t193\t20    \t58.1428\t4.8\t0  \t7  \t3  \t20    \t1.98997\n",
      "1  \t15    \t252.4\t1  \t301\t193\t15    \t53.7293\t4.7\t1  \t13 \t1  \t15    \t2.77669\n",
      "2  \t11    \t236.3\t2  \t411\t193\t11    \t63.2496\t5.2\t2  \t9  \t3  \t11    \t2.18174\n",
      "3  \t10    \t236.4\t3  \t411\t193\t10    \t72.1224\t5.2\t3  \t9  \t3  \t10    \t1.77764\n",
      "4  \t16    \t241.8\t4  \t411\t193\t16    \t72.7115\t5.7\t4  \t11 \t1  \t16    \t2.47184\n",
      "5  \t13    \t209.3\t5  \t411\t193\t13    \t51.901 \t6.7\t5  \t13 \t3  \t13    \t2.91719\n",
      "6  \t20    \t247.3\t6  \t411\t193\t20    \t80.7026\t6.2\t6  \t13 \t3  \t20    \t2.78568\n",
      "7  \t11    \t225.6\t7  \t411\t193\t11    \t69.6853\t7  \t7  \t13 \t3  \t11    \t3.28634\n",
      "8  \t8     \t193  \t8  \t193\t193\t8     \t0      \t6  \t8  \t11 \t3  \t8     \t2.93258\n",
      "9  \t5     \t203.9\t9  \t411\t193\t5     \t47.512 \t6.3\t9  \t13 \t3  \t5     \t3.47994\n",
      "10 \t8     \t193  \t10 \t193\t193\t8     \t0      \t5.4\t10 \t11 \t3  \t8     \t3.38231\n",
      "11 \t13    \t193  \t11 \t193\t193\t13    \t0      \t6.6\t11 \t15 \t3  \t13    \t3.97995\n",
      "12 \t14    \t242  \t12 \t411\t193\t14    \t87.6755\t5.4\t12 \t11 \t3  \t14    \t2.87054\n",
      "13 \t15    \t220.1\t13 \t411\t193\t15    \t58.2356\t5.3\t13 \t13 \t3  \t15    \t3.30303\n",
      "14 \t7     \t198.4\t14 \t301\t193\t7     \t23.5381\t4.6\t14 \t11 \t3  \t7     \t2.93939\n",
      "15 \t5     \t198.4\t15 \t301\t193\t5     \t23.5381\t3.3\t15 \t11 \t1  \t5     \t1.81934\n",
      "16 \t12    \t203.9\t16 \t411\t193\t12    \t47.512 \t4.1\t16 \t11 \t3  \t12    \t2.64386\n",
      "17 \t6     \t214.7\t17 \t411\t193\t6     \t55.423 \t3.7\t17 \t11 \t1  \t6     \t2.21585\n",
      "18 \t10    \t198.4\t18 \t301\t193\t10    \t23.5381\t3.2\t18 \t7  \t3  \t10    \t0.87178\n",
      "19 \t10    \t193  \t19 \t193\t193\t10    \t0      \t3  \t19 \t3  \t3  \t10    \t0      \n",
      "20 \t11    \t193  \t20 \t193\t193\t11    \t0      \t3  \t20 \t3  \t3  \t11    \t0      \n"
     ]
    }
   ],
   "source": [
    "creator.create(\"FitnessMin\", base.Fitness, weights=(-1.0,))\n",
    "creator.create(\"Individual\", gp.PrimitiveTree, fitness=creator.FitnessMin)\n",
    "\n",
    "toolbox = base.Toolbox()\n",
    "toolbox.register(\"expr\", gp.genHalfAndHalf, pset=pset, min_=1, max_=2)\n",
    "toolbox.register(\"individual\", tools.initIterate, creator.Individual, toolbox.expr)\n",
    "toolbox.register(\"population\", tools.initRepeat, list, toolbox.individual)\n",
    "toolbox.register(\"compile\", gp.compile, pset=pset)\n",
    "\n",
    "def to_dec(label):\n",
    "    # label to integer\n",
    "    str_list = list(str(x) for x in label)\n",
    "    str_bin = ''.join(str_list)\n",
    "    return int(str_bin, 2)\n",
    "\n",
    "def evalSymbReg(individual, labels):\n",
    "    # transform the tree expression in a callable function\n",
    "    func = toolbox.compile(expr=individual)\n",
    "    loss = 0\n",
    "    \n",
    "    for i in range(len(labels)):\n",
    "        label_l = []\n",
    "        for j in range(len(labels)):\n",
    "            if i != j:\n",
    "                label_l.append([np.count_nonzero(labels[i] != labels[j]),\n",
    "                                func(to_dec(labels[j]))])\n",
    "        \n",
    "        closest_orig = sorted(label_l)[:5] # closest original labels\n",
    "        closest_new = sorted(label_l, key=lambda x: x[1])[:5] # closest new labels\n",
    "        \n",
    "        for l in closest_orig:\n",
    "            if l not in closest_new:\n",
    "                loss += 1\n",
    "        \n",
    "    return loss,\n",
    "\n",
    "toolbox.register(\"evaluate\", evalSymbReg, labels=y_train_u)\n",
    "toolbox.register(\"select\", tools.selTournament, tournsize=3)\n",
    "toolbox.register(\"mate\", gp.cxOnePoint)\n",
    "toolbox.register(\"expr_mut\", gp.genFull, min_=0, max_=2)\n",
    "toolbox.register(\"mutate\", gp.mutUniform, expr=toolbox.expr_mut, pset=pset)\n",
    "\n",
    "toolbox.decorate(\"mate\", gp.staticLimit(key=operator.attrgetter(\"height\"), max_value=17))\n",
    "toolbox.decorate(\"mutate\", gp.staticLimit(key=operator.attrgetter(\"height\"), max_value=17))\n",
    "\n",
    "def main():\n",
    "    random.seed(0)\n",
    "\n",
    "    pop = toolbox.population(n=20)\n",
    "    hof = tools.HallOfFame(1)\n",
    "\n",
    "    stats_fit = tools.Statistics(lambda ind: ind.fitness.values)\n",
    "    stats_size = tools.Statistics(len)\n",
    "    mstats = tools.MultiStatistics(fitness=stats_fit, size=stats_size)\n",
    "    mstats.register(\"avg\", np.mean)\n",
    "    mstats.register(\"std\", np.std)\n",
    "    mstats.register(\"min\", np.min)\n",
    "    mstats.register(\"max\", np.max)\n",
    "\n",
    "    pop, log = algorithms.eaSimple(pop, toolbox, 0.5, 0.1, 10, stats=mstats,\n",
    "                                   halloffame=hof, verbose=True) # P(mate), P(mutate), ngen\n",
    "    # print log\n",
    "    return pop, log, hof # returns population, log, hall of fame\n",
    "\n",
    "progs = main()"
   ]
  },
  {
   "cell_type": "code",
   "execution_count": 36,
   "id": "74f1a5f8",
   "metadata": {},
   "outputs": [
    {
     "name": "stdout",
     "output_type": "stream",
     "text": [
      "mul(mul(x, x), sub(x, x))\n"
     ]
    }
   ],
   "source": [
    "nodes, edges, labels = gp.graph(progs[2][0]) # hof\n",
    "\n",
    "print(gp.PrimitiveTree(progs[2][0]))\n",
    "\n",
    "g = pgv.AGraph()\n",
    "g.add_nodes_from(nodes)\n",
    "g.add_edges_from(edges)\n",
    "g.layout(prog=\"dot\")\n",
    "\n",
    "for i in nodes:\n",
    "    n = g.get_node(i)\n",
    "    n.attr[\"label\"] = labels[i]\n",
    "\n",
    "g.draw(\"tree.pdf\")"
   ]
  }
 ],
 "metadata": {
  "kernelspec": {
   "display_name": "Python 3 (ipykernel)",
   "language": "python",
   "name": "python3"
  },
  "language_info": {
   "codemirror_mode": {
    "name": "ipython",
    "version": 3
   },
   "file_extension": ".py",
   "mimetype": "text/x-python",
   "name": "python",
   "nbconvert_exporter": "python",
   "pygments_lexer": "ipython3",
   "version": "3.12.0"
  }
 },
 "nbformat": 4,
 "nbformat_minor": 5
}
